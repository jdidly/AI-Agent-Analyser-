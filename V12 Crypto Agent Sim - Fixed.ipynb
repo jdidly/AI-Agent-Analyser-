{
  "cells": [
    {
      "cell_type": "markdown",
      "id": "55d3ed00",
      "metadata": {
        "id": "55d3ed00"
      },
      "source": [
        "# Crypto Trading AI Agent Simulation v12\n",
        "Phase\u00a01: Feature Enrichment & Realistic Backtest (No dropna subset)"
      ]
    },
    {
      "cell_type": "code",
      "execution_count": 43,
      "id": "644e54a3",
      "metadata": {
        "id": "644e54a3",
        "executionInfo": {
          "status": "ok",
          "timestamp": 1753260651508,
          "user_tz": -600,
          "elapsed": 13748,
          "user": {
            "displayName": "Jimmy Dawson",
            "userId": "02264192298529402527"
          }
        }
      },
      "outputs": [],
      "source": [
        "!pip install yfinance scikit-learn matplotlib pandas --quiet"
      ]
    },
    {
      "cell_type": "code",
      "execution_count": 71,
      "id": "4b00ff33",
      "metadata": {
        "id": "4b00ff33",
        "executionInfo": {
          "status": "ok",
          "timestamp": 1753262202071,
          "user_tz": -600,
          "elapsed": 18,
          "user": {
            "displayName": "Jimmy Dawson",
            "userId": "02264192298529402527"
          }
        }
      },
      "outputs": [],
      "source": [
        "import yfinance as yf\n",
        "import pandas as pd\n",
        "import numpy as np\n",
        "from sklearn.ensemble import RandomForestClassifier\n",
        "from sklearn.model_selection import train_test_split\n",
        "import matplotlib.pyplot as plt\n",
        "from IPython.display import display\n",
        "import warnings\n",
        "warnings.filterwarnings('ignore')\n",
        "\n",
        "# Parameters\n",
        "symbols = ['BTC-USD']\n",
        "period = '1y'\n",
        "profit_target = 0.02    # 2%\n",
        "stop_loss = 0.015       # 1.5%\n",
        "confidence_threshold = 65\n",
        "initial_capital = 10000  # starting capital\n",
        "risk_pct = 0.01          # 1% of capital per trade\n",
        "spread = 0.0005          # 0.05% round-trip spread\n",
        "commission = 0.001       # 0.1% round-trip commission"
      ]
    },
    {
      "cell_type": "code",
      "execution_count": 70,
      "id": "efd9bf1b",
      "metadata": {
        "id": "efd9bf1b",
        "executionInfo": {
          "status": "ok",
          "timestamp": 1753262200624,
          "user_tz": -600,
          "elapsed": 22,
          "user": {
            "displayName": "Jimmy Dawson",
            "userId": "02264192298529402527"
          }
        }
      },
      "outputs": [],
      "source": [
        "def fetch_data(symbol='BTC-USD', period='60d', interval='1h', profit_target=2.0):\n",
        "    # Download data (adjusted)\n",
        "    df = yf.download(symbol, period=period, interval=interval,\n",
        "                     progress=False, auto_adjust=True)\n",
        "    if df.empty:\n",
        "        return None\n",
        "\n",
        "    # Bollinger Bands distance (normalized)\n",
        "    m = df['Close'].rolling(20).mean()\n",
        "    s = df['Close'].rolling(20).std()\n",
        "    df['Bollinger_Dist'] = (df['Close'] - m) / (s + 1e-9)\n",
        "\n",
        "    # EMA crossover & MACD diff\n",
        "    df['EMA50'] = df['Close'].ewm(span=50).mean()\n",
        "    df['EMA200'] = df['Close'].ewm(span=200).mean()\n",
        "    df['EMA50_above_EMA200'] = (df['EMA50'] > df['EMA200']).astype(int)\n",
        "    df['MACD_diff'] = df['Close'].ewm(span=12).mean() - df['Close'].ewm(span=26).mean()\n",
        "\n",
        "    # RSI\n",
        "    delta = df['Close'].diff()\n",
        "    gain = delta.where(delta > 0, 0)\n",
        "    loss = -delta.where(delta < 0, 0)\n",
        "    avg_gain = gain.ewm(com=14-1, adjust=False).mean()\n",
        "    avg_loss = loss.ewm(com=14-1, adjust=False).mean()\n",
        "    rs = avg_gain / avg_loss\n",
        "    df['RSI'] = 100 - (100 / (1 + rs))\n",
        "\n",
        "    # Volume spike\n",
        "    df['Volume_Spike'] = (df['Volume'] > df['Volume'].rolling(20).mean()).astype(int)\n",
        "\n",
        "    # Target labeling\n",
        "    df['Future_Return'] = df['Close'].shift(-1) / df['Close'] - 1\n",
        "    df['Target'] = (df['Future_Return'] >= profit_target / 100).astype(int)\n",
        "\n",
        "    # Drop any rows with NaN after feature creation\n",
        "    df.dropna(inplace=True)\n",
        "    return df"
      ]
    },
    {
      "cell_type": "code",
      "execution_count": 73,
      "id": "f90f1d7c",
      "metadata": {
        "id": "f90f1d7c",
        "executionInfo": {
          "status": "ok",
          "timestamp": 1753262229768,
          "user_tz": -600,
          "elapsed": 33,
          "user": {
            "displayName": "Jimmy Dawson",
            "userId": "02264192298529402527"
          }
        }
      },
      "outputs": [],
      "source": [
        "def run_simulation(",
        "    symbols,",
        "    profit_target,",
        "    stop_loss,",
        "    confidence_threshold,",
        "    period,",
        "    initial_capital,",
        "    risk_pct,",
        "    spread,",
        "    commission",
        "):",
        "    results = []",
        "",
        "    for symbol in symbols:",
        "        df = fetch_data(symbol, period=period, profit_target=profit_target * 100)",
        "        if df is None or df.empty:",
        "            print(f\"No data for {symbol}\")",
        "            continue",
        "",
        "        features = ['RSI', 'MACD_diff', 'EMA50_above_EMA200', 'Volume_Spike', 'Bollinger_Dist']",
        "        X = df[features]",
        "        y = df['Target']",
        "",
        "        model = RandomForestClassifier(n_estimators=100, max_depth=10, random_state=42)",
        "        if y.nunique() > 1:",
        "            X_train, _, y_train, _ = train_test_split(",
        "                X, y, test_size=0.2, random_state=42, stratify=y",
        "            )",
        "            model.fit(X_train, y_train)",
        "        else:",
        "            model.fit(X, y)",
        "",
        "",
        "        df['Confidence'] = model.predict_proba(X)[:, 1] * 100",
        "        df['Buy_Signal'] = (df['Confidence'] >= confidence_threshold).astype(int)",
        "",
        "        capital = float(initial_capital) # Initialize capital as float",
        "        equity = [capital]",
        "        trades = []",
        "        position = None",
        "",
        "        for idx in range(len(df) - 1):",
        "            # Use .iloc for integer-based indexing",
        "            buy_signal = df.iloc[idx]['Buy_Signal'].item() # Access the scalar value",
        "            row = df.iloc[idx]",
        "            nxt = df.iloc[idx + 1]",
        "",
        "            if buy_signal == 1 and position is None:",
        "                risk_amount = capital * risk_pct",
        "                entry_price = row['Close'] * (1 + spread)",
        "                stop_price = entry_price * (1 - stop_loss)",
        "                risk_per_unit = entry_price - stop_price",
        "                qty = risk_amount / (risk_per_unit + 1e-9)",
        "",
        "                nxt_high = float(nxt['High'])",
        "                nxt_low = float(nxt['Low'])",
        "                ",
        "                if nxt_high >= entry_price * (1 + profit_target):",
        "                    exit_price = entry_price * (1 + profit_target) * (1 - spread)",
        "                    result = 'profit'",
        "                elif nxt_low <= stop_price:",
        "                    exit_price = stop_price * (1 - spread)",
        "                    result = 'loss'",
        "                else:",
        "                    continue",
        "",
        "                pnl = (exit_price - entry_price) * qty",
        "                fee_cost = commission * (entry_price + exit_price) * qty",
        "                net_pnl = pnl - fee_cost",
        "",
        "                capital += net_pnl",
        "                equity.append(capital)",
        "                trades.append({",
        "                    'entry_time': row.name,",
        "                    'exit_time': nxt.name,",
        "                    'entry_price': entry_price,",
        "                    'exit_price': exit_price,",
        "                    'qty': qty,",
        "                    'net_pnl': net_pnl,",
        "                    'result': result,",
        "                    'confidence': row['Confidence']",
        "                })",
        "                position = None",
        "",
        "        df_trades = pd.DataFrame(trades)",
        "        total_trades = len(df_trades)",
        "        win_rate = df_trades['result'].value_counts(normalize=True).get('profit', 0) * 100",
        "        total_return = (capital / initial_capital - 1) * 100",
        "        returns = df_trades['net_pnl'] / initial_capital",
        "        sharpe = returns.mean() / returns.std() if len(returns) > 1 else np.nan",
        "        peaks = np.maximum.accumulate(equity)",
        "        drawdowns = (equity - peaks) / peaks",
        "        max_dd = drawdowns.min()",
        "",
        "        print(f\"=== {symbol} ===\")",
        "        # Convert to float before formatting",
        "        capital_float = float(capital)",
        "        total_return_float = float(total_return)",
        "        sharpe_float = float(sharpe)",
        "        max_dd_float = float(max_dd)",
        "",
        "",
        "        print(f\"Final Capital: ${capital_float:.2f}\")",
        "        print(f\"Return: {total_return_float:.2f}% | Trades: {total_trades} | Win Rate: {win_rate:.2f}%\")",
        "        print(f\"Sharpe: {sharpe_float:.2f} | Max Drawdown: {max_dd_float:.2%}\")",
        "",
        "        plt.figure(figsize=(10, 4))",
        "        plt.plot(equity, label='Equity Curve')",
        "        plt.title(f'{symbol} Equity Over Trades')",
        "        plt.ylabel('Capital ($)')",
        "        plt.legend()",
        "        plt.show()",
        "",
        "        results.append({",
        "            'symbol': symbol,",
        "            'final_capital': capital,",
        "            'total_return_pct': total_return,",
        "            'total_trades': total_trades,",
        "            'win_rate_pct': win_rate,",
        "            'sharpe': sharpe,",
        "            'max_drawdown_pct': max_dd",
        "        })",
        "",
        "    return pd.DataFrame(results)"
      ]
    },
    {
      "cell_type": "code",
      "execution_count": 74,
      "id": "136eb370",
      "metadata": {
        "colab": {
          "base_uri": "https://localhost:8080/",
          "height": 703
        },
        "id": "136eb370",
        "executionInfo": {
          "status": "error",
          "timestamp": 1753262236112,
          "user_tz": -600,
          "elapsed": 2376,
          "user": {
            "displayName": "Jimmy Dawson",
            "userId": "02264192298529402527"
          }
        },
        "outputId": "ad12f4b0-ae8b-44a9-f9d7-acafd1654bf3"
      },
      "outputs": [
        {
          "output_type": "error",
          "ename": "ValueError",
          "evalue": "The truth value of a Series is ambiguous. Use a.empty, a.bool(), a.item(), a.any() or a.all().",
          "traceback": [
            "\u001b[0;31m---------------------------------------------------------------------------\u001b[0m",
            "\u001b[0;31mValueError\u001b[0m                                Traceback (most recent call last)",
            "\u001b[0;32m/tmp/ipython-input-74-1030869286.py\u001b[0m in \u001b[0;36m<cell line: 0>\u001b[0;34m()\u001b[0m\n\u001b[1;32m      1\u001b[0m \u001b[0;31m# Run the enriched simulation\u001b[0m\u001b[0;34m\u001b[0m\u001b[0;34m\u001b[0m\u001b[0m\n\u001b[0;32m----> 2\u001b[0;31m metrics = run_simulation(symbols, profit_target, stop_loss,\n\u001b[0m\u001b[1;32m      3\u001b[0m                          \u001b[0mconfidence_threshold\u001b[0m\u001b[0;34m,\u001b[0m \u001b[0mperiod\u001b[0m\u001b[0;34m,\u001b[0m\u001b[0;34m\u001b[0m\u001b[0;34m\u001b[0m\u001b[0m\n\u001b[1;32m      4\u001b[0m                          \u001b[0minitial_capital\u001b[0m\u001b[0;34m,\u001b[0m \u001b[0mrisk_pct\u001b[0m\u001b[0;34m,\u001b[0m\u001b[0;34m\u001b[0m\u001b[0;34m\u001b[0m\u001b[0m\n\u001b[1;32m      5\u001b[0m                          spread, commission)\n",
            "\u001b[0;32m/tmp/ipython-input-73-2740215975.py\u001b[0m in \u001b[0;36mrun_simulation\u001b[0;34m(symbols, profit_target, stop_loss, confidence_threshold, period, initial_capital, risk_pct, spread, commission)\u001b[0m\n\u001b[1;32m     53\u001b[0m                 \u001b[0mqty\u001b[0m \u001b[0;34m=\u001b[0m \u001b[0mrisk_amount\u001b[0m \u001b[0;34m/\u001b[0m \u001b[0;34m(\u001b[0m\u001b[0mrisk_per_unit\u001b[0m \u001b[0;34m+\u001b[0m \u001b[0;36m1e-9\u001b[0m\u001b[0;34m)\u001b[0m\u001b[0;34m\u001b[0m\u001b[0;34m\u001b[0m\u001b[0m\n\u001b[1;32m     54\u001b[0m \u001b[0;34m\u001b[0m\u001b[0m\n\u001b[0;32m---> 55\u001b[0;31m                 \u001b[0;32mif\u001b[0m \u001b[0mnxt\u001b[0m\u001b[0;34m[\u001b[0m\u001b[0;34m'High'\u001b[0m\u001b[0;34m]\u001b[0m\u001b[0;34m.\u001b[0m\u001b[0mitem\u001b[0m\u001b[0;34m(\u001b[0m\u001b[0;34m)\u001b[0m \u001b[0;34m>=\u001b[0m \u001b[0mentry_price\u001b[0m \u001b[0;34m*\u001b[0m \u001b[0;34m(\u001b[0m\u001b[0;36m1\u001b[0m \u001b[0;34m+\u001b[0m \u001b[0mprofit_target\u001b[0m\u001b[0;34m)\u001b[0m\u001b[0;34m:\u001b[0m\u001b[0;34m\u001b[0m\u001b[0;34m\u001b[0m\u001b[0m\n\u001b[0m\u001b[1;32m     56\u001b[0m                     \u001b[0mexit_price\u001b[0m \u001b[0;34m=\u001b[0m \u001b[0mentry_price\u001b[0m \u001b[0;34m*\u001b[0m \u001b[0;34m(\u001b[0m\u001b[0;36m1\u001b[0m \u001b[0;34m+\u001b[0m \u001b[0mprofit_target\u001b[0m\u001b[0;34m)\u001b[0m \u001b[0;34m*\u001b[0m \u001b[0;34m(\u001b[0m\u001b[0;36m1\u001b[0m \u001b[0;34m-\u001b[0m \u001b[0mspread\u001b[0m\u001b[0;34m)\u001b[0m\u001b[0;34m\u001b[0m\u001b[0;34m\u001b[0m\u001b[0m\n\u001b[1;32m     57\u001b[0m                     \u001b[0mresult\u001b[0m \u001b[0;34m=\u001b[0m \u001b[0;34m'profit'\u001b[0m\u001b[0;34m\u001b[0m\u001b[0;34m\u001b[0m\u001b[0m\n",
            "\u001b[0;32m/usr/local/lib/python3.11/dist-packages/pandas/core/generic.py\u001b[0m in \u001b[0;36m__nonzero__\u001b[0;34m(self)\u001b[0m\n\u001b[1;32m   1575\u001b[0m     \u001b[0;34m@\u001b[0m\u001b[0mfinal\u001b[0m\u001b[0;34m\u001b[0m\u001b[0;34m\u001b[0m\u001b[0m\n\u001b[1;32m   1576\u001b[0m     \u001b[0;32mdef\u001b[0m \u001b[0m__nonzero__\u001b[0m\u001b[0;34m(\u001b[0m\u001b[0mself\u001b[0m\u001b[0;34m)\u001b[0m \u001b[0;34m->\u001b[0m \u001b[0mNoReturn\u001b[0m\u001b[0;34m:\u001b[0m\u001b[0;34m\u001b[0m\u001b[0;34m\u001b[0m\u001b[0m\n\u001b[0;32m-> 1577\u001b[0;31m         raise ValueError(\n\u001b[0m\u001b[1;32m   1578\u001b[0m             \u001b[0;34mf\"The truth value of a {type(self).__name__} is ambiguous. \"\u001b[0m\u001b[0;34m\u001b[0m\u001b[0;34m\u001b[0m\u001b[0m\n\u001b[1;32m   1579\u001b[0m             \u001b[0;34m\"Use a.empty, a.bool(), a.item(), a.any() or a.all().\"\u001b[0m\u001b[0;34m\u001b[0m\u001b[0;34m\u001b[0m\u001b[0m\n",
            "\u001b[0;31mValueError\u001b[0m: The truth value of a Series is ambiguous. Use a.empty, a.bool(), a.item(), a.any() or a.all()."
          ]
        }
      ],
      "source": [
        "# Run the enriched simulation\n",
        "metrics = run_simulation(symbols, profit_target, stop_loss,\n",
        "                         confidence_threshold, period,\n",
        "                         initial_capital, risk_pct,\n",
        "                         spread, commission)\n",
        "display(metrics)"
      ]
    }
  ],
  "metadata": {
    "colab": {
      "provenance": [
        {
          "file_id": "1m1PFSmnSmtCmWiMbW7nyfDEq8hS4zBA7",
          "timestamp": 1753263195983
        }
      ]
    },
    "language_info": {
      "name": "python"
    },
    "kernelspec": {
      "name": "python3",
      "display_name": "Python 3"
    }
  },
  "nbformat": 4,
  "nbformat_minor": 5
}