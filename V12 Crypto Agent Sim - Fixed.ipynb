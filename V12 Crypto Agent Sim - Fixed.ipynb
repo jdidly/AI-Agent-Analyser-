{
  "cells": [
    {
      "cell_type": "markdown",
      "id": "55d3ed00",
      "metadata": {
        "id": "55d3ed00"
      },
      "source": [
        "# Crypto Trading AI Agent Simulation v12\n",
        "Phase 1: Feature Enrichment & Realistic Backtest (No dropna subset)"
      ]
    },
    {
      "cell_type": "code",
      "execution_count": 13,
      "id": "644e54a3",
      "metadata": {
        "executionInfo": {
          "elapsed": 13748,
          "status": "ok",
          "timestamp": 1753260651508,
          "user": {
            "displayName": "Jimmy Dawson",
            "userId": "02264192298529402527"
          },
          "user_tz": -600
        },
        "id": "644e54a3"
      },
      "outputs": [],
      "source": [
        "!pip install yfinance scikit-learn matplotlib pandas --quiet"
      ]
    },
    {
      "cell_type": "code",
      "execution_count": 14,
      "id": "4b00ff33",
      "metadata": {
        "executionInfo": {
          "elapsed": 18,
          "status": "ok",
          "timestamp": 1753262202071,
          "user": {
            "displayName": "Jimmy Dawson",
            "userId": "02264192298529402527"
          },
          "user_tz": -600
        },
        "id": "4b00ff33"
      },
      "outputs": [],
      "source": [
        "import yfinance as yf\n",
        "import pandas as pd\n",
        "import numpy as np\n",
        "from sklearn.ensemble import RandomForestClassifier\n",
        "from sklearn.model_selection import train_test_split\n",
        "import matplotlib.pyplot as plt\n",
        "from IPython.display import display\n",
        "import warnings\n",
        "warnings.filterwarnings('ignore')\n",
        "\n",
        "# Parameters\n",
        "symbols = ['BTC-USD']\n",
        "period = '1y'\n",
        "profit_target = 0.02    # 2%\n",
        "stop_loss = 0.015       # 1.5%\n",
        "confidence_threshold = 65\n",
        "initial_capital = 10000  # starting capital\n",
        "risk_pct = 0.01          # 1% of capital per trade\n",
        "spread = 0.0005          # 0.05% round-trip spread\n",
        "commission = 0.001       # 0.1% round-trip commission"
      ]
    },
    {
      "cell_type": "code",
      "execution_count": 15,
      "id": "efd9bf1b",
      "metadata": {
        "executionInfo": {
          "elapsed": 22,
          "status": "ok",
          "timestamp": 1753262200624,
          "user": {
            "displayName": "Jimmy Dawson",
            "userId": "02264192298529402527"
          },
          "user_tz": -600
        },
        "id": "efd9bf1b"
      },
      "outputs": [],
      "source": [
        "import requests\n",
        "import pandas as pd\n",
        "\n",
        "def fetch_data(symbol='BTCUSDT', period=None, interval='1h', profit_target=2.0, limit=1000):\n",
        "    # Binance API interval mapping\n",
        "    interval_map = {\n",
        "        '1h': '1h',\n",
        "        '1d': '1d',\n",
        "        '15m': '15m',\n",
        "        '5m': '5m',\n",
        "        '1m': '1m',\n",
        "    }\n",
        "    binance_interval = interval_map.get(interval, '1h')\n",
        "    url = f\"https://api.binance.com/api/v3/klines\"\n",
        "    params = {\n",
        "        'symbol': symbol,\n",
        "        'interval': binance_interval,\n",
        "        'limit': limit\n",
        "    }\n",
        "    r = requests.get(url, params=params)\n",
        "    data = r.json()\n",
        "    if isinstance(data, dict) and data.get('code'):\n",
        "        print(\"Failed to fetch data:\", data.get('msg', 'Unknown error'))\n",
        "        return None\n",
        "    df = pd.DataFrame(data, columns=[\n",
        "        'open_time', 'Open', 'High', 'Low', 'Close', 'Volume',\n",
        "        'close_time', 'Quote_asset_volume', 'Number_of_trades',\n",
        "        'Taker_buy_base', 'Taker_buy_quote', 'Ignore'\n",
        "    ])\n",
        "    df['open_time'] = pd.to_datetime(df['open_time'], unit='ms')\n",
        "    df.set_index('open_time', inplace=True)\n",
        "    for col in ['Open', 'High', 'Low', 'Close', 'Volume']:\n",
        "        df[col] = df[col].astype(float)\n",
        "\n",
        "    # Feature engineering (same as before)\n",
        "    m = df['Close'].rolling(20).mean()\n",
        "    s = df['Close'].rolling(20).std()\n",
        "    df['Bollinger_Dist'] = (df['Close'] - m) / (s + 1e-9)\n",
        "    df['EMA50'] = df['Close'].ewm(span=50).mean()\n",
        "    df['EMA200'] = df['Close'].ewm(span=200).mean()\n",
        "    df['EMA50_above_EMA200'] = (df['EMA50'] > df['EMA200']).astype(int)\n",
        "    df['MACD_diff'] = df['Close'].ewm(span=12).mean() - df['Close'].ewm(span=26).mean()\n",
        "    delta = df['Close'].diff()\n",
        "    gain = delta.where(delta > 0, 0)\n",
        "    loss = -delta.where(delta < 0, 0)\n",
        "    avg_gain = gain.ewm(com=14-1, adjust=False).mean()\n",
        "    avg_loss = loss.ewm(com=14-1, adjust=False).mean()\n",
        "    rs = avg_gain / avg_loss\n",
        "    df['RSI'] = 100 - (100 / (1 + rs))\n",
        "    df['Volume_Spike'] = (df['Volume'] > df['Volume'].rolling(20).mean()).astype(int)\n",
        "    df['Future_Return'] = df['Close'].shift(-1) / df['Close'] - 1\n",
        "    df['Target'] = (df['Future_Return'] >= profit_target / 100).astype(int)\n",
        "    df.dropna(inplace=True)\n",
        "    return df"
      ]
    },
    {
      "cell_type": "code",
      "execution_count": 16,
      "id": "f90f1d7c",
      "metadata": {
        "executionInfo": {
          "elapsed": 33,
          "status": "ok",
          "timestamp": 1753262229768,
          "user": {
            "displayName": "Jimmy Dawson",
            "userId": "02264192298529402527"
          },
          "user_tz": -600
        },
        "id": "f90f1d7c"
      },
      "outputs": [],
      "source": [
        "def run_simulation(\n",
        "    symbols,\n",
        "    profit_target,\n",
        "    stop_loss,\n",
        "    confidence_threshold,\n",
        "    period,\n",
        "    initial_capital,\n",
        "    risk_pct,\n",
        "    spread,\n",
        "    commission\n",
        "):\n",
        "    results = []\n",
        "\n",
        "    for symbol in symbols:\n",
        "        df = fetch_data(symbol, period=period, profit_target=profit_target * 100)\n",
        "        if df is None or df.empty:\n",
        "            print(f\"No data for {symbol}\")\n",
        "            continue\n",
        "\n",
        "        features = ['RSI', 'MACD_diff', 'EMA50_above_EMA200', 'Volume_Spike', 'Bollinger_Dist']\n",
        "        X = df[features]\n",
        "        y = df['Target']\n",
        "\n",
        "        model = RandomForestClassifier(n_estimators=100, max_depth=10, random_state=42)\n",
        "        if y.nunique() > 1:\n",
        "            X_train, _, y_train, _ = train_test_split(\n",
        "                X, y, test_size=0.2, random_state=42, stratify=y\n",
        "            )\n",
        "            model.fit(X_train, y_train)\n",
        "        else:\n",
        "            model.fit(X, y)\n",
        "\n",
        "\n",
        "        df['Confidence'] = model.predict_proba(X)[:, 1] * 100\n",
        "        df['Buy_Signal'] = (df['Confidence'] >= confidence_threshold).astype(int)\n",
        "\n",
        "        capital = float(initial_capital) # Initialize capital as float\n",
        "        equity = [capital]\n",
        "        trades = []\n",
        "        position = None\n",
        "\n",
        "        for idx in range(len(df) - 1):\n",
        "            # Use .iloc for integer-based indexing\n",
        "            buy_signal = df.iloc[idx]['Buy_Signal'].item() # Access the scalar value\n",
        "            row = df.iloc[idx]\n",
        "            nxt = df.iloc[idx + 1]\n",
        "\n",
        "            if buy_signal == 1 and position is None:\n",
        "                risk_amount = capital * risk_pct\n",
        "                entry_price = row['Close'] * (1 + spread)\n",
        "                stop_price = entry_price * (1 - stop_loss)\n",
        "                risk_per_unit = entry_price - stop_price\n",
        "                qty = risk_amount / (risk_per_unit + 1e-9)\n",
        "\n",
        "                nxt_high = float(nxt['High'])\n",
        "                nxt_low = float(nxt['Low'])\n",
        "                \n",
        "                if nxt_high >= entry_price * (1 + profit_target):\n",
        "                    exit_price = entry_price * (1 + profit_target) * (1 - spread)\n",
        "                    result = 'profit'\n",
        "                elif nxt_low <= stop_price:\n",
        "                    exit_price = stop_price * (1 - spread)\n",
        "                    result = 'loss'\n",
        "                else:\n",
        "                    continue\n",
        "\n",
        "                pnl = (exit_price - entry_price) * qty\n",
        "                fee_cost = commission * (entry_price + exit_price) * qty\n",
        "                net_pnl = pnl - fee_cost\n",
        "\n",
        "                capital += net_pnl\n",
        "                equity.append(capital)\n",
        "                trades.append({\n",
        "                    'entry_time': row.name,\n",
        "                    'exit_time': nxt.name,\n",
        "                    'entry_price': entry_price,\n",
        "                    'exit_price': exit_price,\n",
        "                    'qty': qty,\n",
        "                    'net_pnl': net_pnl,\n",
        "                    'result': result,\n",
        "                    'confidence': row['Confidence']\n",
        "                })\n",
        "                position = None\n",
        "\n",
        "        df_trades = pd.DataFrame(trades)\n",
        "        total_trades = len(df_trades)\n",
        "        win_rate = df_trades['result'].value_counts(normalize=True).get('profit', 0) * 100\n",
        "        total_return = (capital / initial_capital - 1) * 100\n",
        "        returns = df_trades['net_pnl'] / initial_capital\n",
        "        sharpe = returns.mean() / returns.std() if len(returns) > 1 else np.nan\n",
        "        peaks = np.maximum.accumulate(equity)\n",
        "        drawdowns = (equity - peaks) / peaks\n",
        "        max_dd = drawdowns.min()\n",
        "\n",
        "        print(f\"=== {symbol} ===\")\n",
        "        # Convert to float before formatting\n",
        "        capital_float = float(capital)\n",
        "        total_return_float = float(total_return)\n",
        "        sharpe_float = float(sharpe)\n",
        "        max_dd_float = float(max_dd)\n",
        "\n",
        "\n",
        "        print(f\"Final Capital: ${capital_float:.2f}\")\n",
        "        print(f\"Return: {total_return_float:.2f}% | Trades: {total_trades} | Win Rate: {win_rate:.2f}%\")\n",
        "        print(f\"Sharpe: {sharpe_float:.2f} | Max Drawdown: {max_dd_float:.2%}\")\n",
        "\n",
        "        plt.figure(figsize=(10, 4))\n",
        "        plt.plot(equity, label='Equity Curve')\n",
        "        plt.title(f'{symbol} Equity Over Trades')\n",
        "        plt.ylabel('Capital ($)')\n",
        "        plt.legend()\n",
        "        plt.show()\n",
        "\n",
        "        results.append({\n",
        "            'symbol': symbol,\n",
        "            'final_capital': capital,\n",
        "            'total_return_pct': total_return,\n",
        "            'total_trades': total_trades,\n",
        "            'win_rate_pct': win_rate,\n",
        "            'sharpe': sharpe,\n",
        "            'max_drawdown_pct': max_dd\n",
        "        })\n",
        "\n",
        "    return pd.DataFrame(results)"
      ]
    },
    {
      "cell_type": "code",
      "execution_count": 17,
      "id": "136eb370",
      "metadata": {
        "colab": {
          "base_uri": "https://localhost:8080/",
          "height": 703
        },
        "executionInfo": {
          "elapsed": 2376,
          "status": "error",
          "timestamp": 1753262236112,
          "user": {
            "displayName": "Jimmy Dawson",
            "userId": "02264192298529402527"
          },
          "user_tz": -600
        },
        "id": "136eb370",
        "outputId": "ad12f4b0-ae8b-44a9-f9d7-acafd1654bf3"
      },
      "outputs": [
        {
          "name": "stdout",
          "output_type": "stream",
          "text": [
            "Failed to fetch data: Invalid symbol.\n",
            "No data for BTC-USD\n"
          ]
        },
        {
          "data": {
            "text/html": [
              "<div>\n",
              "<style scoped>\n",
              "    .dataframe tbody tr th:only-of-type {\n",
              "        vertical-align: middle;\n",
              "    }\n",
              "\n",
              "    .dataframe tbody tr th {\n",
              "        vertical-align: top;\n",
              "    }\n",
              "\n",
              "    .dataframe thead th {\n",
              "        text-align: right;\n",
              "    }\n",
              "</style>\n",
              "<table border=\"1\" class=\"dataframe\">\n",
              "  <thead>\n",
              "    <tr style=\"text-align: right;\">\n",
              "      <th></th>\n",
              "    </tr>\n",
              "  </thead>\n",
              "  <tbody>\n",
              "  </tbody>\n",
              "</table>\n",
              "</div>"
            ],
            "text/plain": [
              "Empty DataFrame\n",
              "Columns: []\n",
              "Index: []"
            ]
          },
          "metadata": {},
          "output_type": "display_data"
        }
      ],
      "source": [
        "# Run the enriched simulation\n",
        "metrics = run_simulation(symbols, profit_target, stop_loss,\n",
        "                         confidence_threshold, period,\n",
        "                         initial_capital, risk_pct,\n",
        "                         spread, commission)\n",
        "display(metrics)"
      ]
    },
    {
      "cell_type": "code",
      "execution_count": 18,
      "id": "f5f8fdfe",
      "metadata": {},
      "outputs": [
        {
          "name": "stdout",
          "output_type": "stream",
          "text": [
            "                          Open       High        Low      Close     Volume  \\\n",
            "open_time                                                                    \n",
            "2025-06-20 20:00:00  103307.21  103828.00  103300.11  103693.50  712.51715   \n",
            "2025-06-20 21:00:00  103693.51  103719.99  103353.06  103532.00  311.76605   \n",
            "2025-06-20 22:00:00  103531.99  103532.00  102980.00  103107.11  435.14640   \n",
            "2025-06-20 23:00:00  103107.12  103339.99  102963.67  103297.99  295.95141   \n",
            "2025-06-21 00:00:00  103297.98  103339.99  103127.48  103248.07  202.14606   \n",
            "\n",
            "                        close_time Quote_asset_volume  Number_of_trades  \\\n",
            "open_time                                                                 \n",
            "2025-06-20 20:00:00  1750453199999  73807178.75044590            108512   \n",
            "2025-06-20 21:00:00  1750456799999  32276280.35361600             72265   \n",
            "2025-06-20 22:00:00  1750460399999  44906297.05060590            102543   \n",
            "2025-06-20 23:00:00  1750463999999  30542243.14020910             61390   \n",
            "2025-06-21 00:00:00  1750467599999  20870641.46823230             52222   \n",
            "\n",
            "                    Taker_buy_base    Taker_buy_quote Ignore  \n",
            "open_time                                                     \n",
            "2025-06-20 20:00:00   266.90954000  27647700.46867900      0  \n",
            "2025-06-20 21:00:00   137.69043000  14253200.30740380      0  \n",
            "2025-06-20 22:00:00   162.60707000  16779596.94716080      0  \n",
            "2025-06-20 23:00:00   145.83719000  15052708.18122570      0  \n",
            "2025-06-21 00:00:00   106.16278000  10960991.60580110      0  \n"
          ]
        }
      ],
      "source": [
        "import requests\n",
        "import pandas as pd\n",
        "\n",
        "def fetch_btc_data(interval='1h', limit=1000):\n",
        "    symbol = 'BTCUSDT'\n",
        "    url = \"https://api.binance.com/api/v3/klines\"\n",
        "    params = {\n",
        "        'symbol': symbol,\n",
        "        'interval': interval,\n",
        "        'limit': limit\n",
        "    }\n",
        "    r = requests.get(url, params=params)\n",
        "    data = r.json()\n",
        "    if isinstance(data, dict) and data.get('code'):\n",
        "        print(\"Failed to fetch data:\", data.get('msg', 'Unknown error'))\n",
        "        return None\n",
        "    df = pd.DataFrame(data, columns=[\n",
        "        'open_time', 'Open', 'High', 'Low', 'Close', 'Volume',\n",
        "        'close_time', 'Quote_asset_volume', 'Number_of_trades',\n",
        "        'Taker_buy_base', 'Taker_buy_quote', 'Ignore'\n",
        "    ])\n",
        "    df['open_time'] = pd.to_datetime(df['open_time'], unit='ms')\n",
        "    df.set_index('open_time', inplace=True)\n",
        "    for col in ['Open', 'High', 'Low', 'Close', 'Volume']:\n",
        "        df[col] = df[col].astype(float)\n",
        "    return df\n",
        "\n",
        "# Example usage:\n",
        "btc_df = fetch_btc_data()\n",
        "if btc_df is not None:\n",
        "    print(btc_df.head())\n",
        "else:\n",
        "    print(\"Failed to fetch BTCUSDT data.\")"
      ]
    }
  ],
  "metadata": {
    "colab": {
      "provenance": [
        {
          "file_id": "1m1PFSmnSmtCmWiMbW7nyfDEq8hS4zBA7",
          "timestamp": 1753263195983
        }
      ]
    },
    "kernelspec": {
      "display_name": ".venv",
      "language": "python",
      "name": "python3"
    },
    "language_info": {
      "codemirror_mode": {
        "name": "ipython",
        "version": 3
      },
      "file_extension": ".py",
      "mimetype": "text/x-python",
      "name": "python",
      "nbconvert_exporter": "python",
      "pygments_lexer": "ipython3",
      "version": "3.12.3"
    }
  },
  "nbformat": 4,
  "nbformat_minor": 5
}
